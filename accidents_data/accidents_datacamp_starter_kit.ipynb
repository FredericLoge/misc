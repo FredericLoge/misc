{
  "nbformat": 4,
  "nbformat_minor": 0,
  "metadata": {
    "colab": {
      "name": "accidents datacamp - starter kit.ipynb",
      "provenance": [],
      "collapsed_sections": [],
      "toc_visible": true
    },
    "kernelspec": {
      "name": "python3",
      "display_name": "Python 3"
    },
    "language_info": {
      "name": "python"
    }
  },
  "cells": [
    {
      "cell_type": "markdown",
      "metadata": {
        "id": "04cagdNdYJQI"
      },
      "source": [
        "# Datacamp \\#1: accidents de la route\n",
        "\n",
        "Déroulement général de la séance :\n",
        "- explorer la donnée\n",
        "- choisir une problématique / des questions \n",
        "- identifier les variables pertinentes\n",
        "- faire les calculs, la visu nécessaire\n",
        "\n",
        "Nous souhaitons vous donner quelques exemples de problématiques : \n",
        "- En cas d’accident, prédire sa gravité en fonction des conditions de la conduite. Facteurs liés à la gravité de l’accident.\n",
        "- Analyse d’évolution temporelle / spatiale de différentes catégorie d’accidents.\n",
        "- La “place du mort”\n",
        "- Être piéton: quels risques ?\n",
        "- Accidents et manoeuvres routières\n",
        "- Clustering: si on devait résumer la base en K types d’accidents, quels seraient-ils ? \n",
        "\n",
        "-----------------\n",
        "\n",
        "Attention : nous avons accès à des informations d’accidents, mais nous n'avons pas d'information sur tout les non-accidents! Il faudra donc faire assez attention à la formulation des questions que l'on se pose, et surtout, aux conclusions que l'on peut se permettre de tirer des données. Un exemple typique: on ne peut affirmer qu'un endroit A est plus \"à risque\" qu'un endroit B, basé simplement sur le nombre d'accidents observés dans ces deux endroits. En effet, il suffit que A soit bien plus fréquenté que B pour expliquer les différences, et comme cette information nous est inconnue, nous sommes bloqués."
      ]
    },
    {
      "cell_type": "markdown",
      "metadata": {
        "id": "JbzkI0TpTMpA"
      },
      "source": [
        "https://github.com/FredericLoge/misc/tree/main/accidents_data"
      ]
    },
    {
      "cell_type": "markdown",
      "metadata": {
        "id": "MvwApATsYfhZ"
      },
      "source": [
        "# Load datasets"
      ]
    },
    {
      "cell_type": "code",
      "metadata": {
        "id": "Ty4Yc5B0OjRX"
      },
      "source": [
        "# pandas : read, wrangle, plot data\n",
        "import pandas as pd\n",
        "\n",
        "# github data folder, to facilitate data import (especially for Colab users !)\n",
        "github_data_folder = 'https://raw.githubusercontent.com/FredericLoge/misc/main/accidents_data/'\n",
        "\n",
        "# read function\n",
        "def my_read(url):\n",
        "  return pd.read_csv(url, compression='gzip', encoding = \"latin1\") # , encoding = \"ISO-8859-1\")"
      ],
      "execution_count": null,
      "outputs": []
    },
    {
      "cell_type": "code",
      "metadata": {
        "colab": {
          "base_uri": "https://localhost:8080/"
        },
        "id": "P-YNXOIJV3HP",
        "outputId": "9be8620a-62e0-41d2-81da-567e83250a89"
      },
      "source": [
        "# read the four datasets\n",
        "caracteristiques = my_read(github_data_folder + 'caracteristiques_cleaned.csv.gz')\n",
        "lieux = my_read(github_data_folder + 'lieux_cleaned.csv.gz')\n",
        "usagers = my_read(github_data_folder + 'usagers_cleaned.csv.gz')\n",
        "vehicules = my_read(github_data_folder + 'vehicules_cleaned.csv.gz')"
      ],
      "execution_count": null,
      "outputs": [
        {
          "output_type": "stream",
          "text": [
            "/usr/local/lib/python3.7/dist-packages/IPython/core/interactiveshell.py:2822: DtypeWarning: Columns (2) have mixed types.Specify dtype option on import or set low_memory=False.\n",
            "  if self.run_code(code, result):\n"
          ],
          "name": "stderr"
        }
      ]
    },
    {
      "cell_type": "markdown",
      "metadata": {
        "id": "OZvBo83HYk-6"
      },
      "source": [
        "# Code samples"
      ]
    },
    {
      "cell_type": "code",
      "metadata": {
        "colab": {
          "base_uri": "https://localhost:8080/"
        },
        "id": "nxh6Pz9XOu2K",
        "outputId": "f27c7d5c-0256-47c8-c7fd-b62df6708498"
      },
      "source": [
        "# check on column names\n",
        "print('\\n Columns of \"caracteristiques\"')\n",
        "print(caracteristiques.columns)\n",
        "print('\\n Columns of \"usagers\"')\n",
        "print(usagers.columns)"
      ],
      "execution_count": null,
      "outputs": [
        {
          "output_type": "stream",
          "text": [
            "\n",
            " Columns of \"caracteristiques\"\n",
            "Index(['Num_Acc', 'date', 'lum', 'agg', 'int', 'atm', 'col', 'com', 'adr',\n",
            "       'gps', 'lat', 'long', 'dep'],\n",
            "      dtype='object')\n",
            "\n",
            " Columns of \"usagers\"\n",
            "Index(['Num_Acc', 'place', 'catu', 'grav', 'sexe', 'trajet', 'secup', 'secuu',\n",
            "       'locp', 'actp', 'etatp', 'an_nais', 'num_veh'],\n",
            "      dtype='object')\n"
          ],
          "name": "stdout"
        }
      ]
    },
    {
      "cell_type": "code",
      "metadata": {
        "colab": {
          "base_uri": "https://localhost:8080/"
        },
        "id": "2OVsEOzKYPI8",
        "outputId": "dbf623bd-1fc5-46be-f58f-73d119241281"
      },
      "source": [
        "# count modalities of a categorical variable \n",
        "caracteristiques['int'].value_counts()"
      ],
      "execution_count": null,
      "outputs": [
        {
          "output_type": "execute_result",
          "data": {
            "text/plain": [
              "Hors intersection                     679626\n",
              "Intersection en X                     117058\n",
              "Intersection en T                      85556\n",
              "Giratoire                              26548\n",
              "Autre intersection                     16784\n",
              "Intersection en Y                      13894\n",
              "Intersection Ã  plus de 4 branches     10156\n",
              "Place                                   7644\n",
              "Passage Ã  niveau                       1096\n",
              "Name: int, dtype: int64"
            ]
          },
          "metadata": {
            "tags": []
          },
          "execution_count": 5
        }
      ]
    },
    {
      "cell_type": "code",
      "metadata": {
        "colab": {
          "base_uri": "https://localhost:8080/",
          "height": 561
        },
        "id": "VdOLw1wHX7QW",
        "outputId": "200e4973-d18d-4992-e840-8cf5154fec65"
      },
      "source": [
        "# merge datasets\n",
        "# attention : they might be two key IDs (Num_Acc, Num_veh)\n",
        "caract_usagers = caracteristiques.merge(usagers, left_on = 'Num_Acc', right_on = 'Num_Acc')\n",
        "caract_usagers.head(6)"
      ],
      "execution_count": null,
      "outputs": [
        {
          "output_type": "execute_result",
          "data": {
            "text/html": [
              "<div>\n",
              "<style scoped>\n",
              "    .dataframe tbody tr th:only-of-type {\n",
              "        vertical-align: middle;\n",
              "    }\n",
              "\n",
              "    .dataframe tbody tr th {\n",
              "        vertical-align: top;\n",
              "    }\n",
              "\n",
              "    .dataframe thead th {\n",
              "        text-align: right;\n",
              "    }\n",
              "</style>\n",
              "<table border=\"1\" class=\"dataframe\">\n",
              "  <thead>\n",
              "    <tr style=\"text-align: right;\">\n",
              "      <th></th>\n",
              "      <th>Num_Acc</th>\n",
              "      <th>date</th>\n",
              "      <th>lum</th>\n",
              "      <th>agg</th>\n",
              "      <th>int</th>\n",
              "      <th>atm</th>\n",
              "      <th>col</th>\n",
              "      <th>com</th>\n",
              "      <th>adr</th>\n",
              "      <th>gps</th>\n",
              "      <th>lat</th>\n",
              "      <th>long</th>\n",
              "      <th>dep</th>\n",
              "      <th>place</th>\n",
              "      <th>catu</th>\n",
              "      <th>grav</th>\n",
              "      <th>sexe</th>\n",
              "      <th>trajet</th>\n",
              "      <th>secup</th>\n",
              "      <th>secuu</th>\n",
              "      <th>locp</th>\n",
              "      <th>actp</th>\n",
              "      <th>etatp</th>\n",
              "      <th>an_nais</th>\n",
              "      <th>num_veh</th>\n",
              "    </tr>\n",
              "  </thead>\n",
              "  <tbody>\n",
              "    <tr>\n",
              "      <th>0</th>\n",
              "      <td>200500000001</td>\n",
              "      <td>2005-01-12T19:00:00Z</td>\n",
              "      <td>Nuit sans Ã©clairage public</td>\n",
              "      <td>En agglomÃ©ration</td>\n",
              "      <td>Hors intersection</td>\n",
              "      <td>Normale</td>\n",
              "      <td>Deux vÃ©hicules â par le cotÃ©</td>\n",
              "      <td>11.0</td>\n",
              "      <td>CD41B</td>\n",
              "      <td>MÃ©tropole</td>\n",
              "      <td>50.515</td>\n",
              "      <td>2.944</td>\n",
              "      <td>590</td>\n",
              "      <td>1.0</td>\n",
              "      <td>Conducteur</td>\n",
              "      <td>BlessÃ© lÃ©ger</td>\n",
              "      <td>Masculin</td>\n",
              "      <td>Domicile â travail</td>\n",
              "      <td>Ceinture</td>\n",
              "      <td>Oui</td>\n",
              "      <td>NaN</td>\n",
              "      <td>NaN</td>\n",
              "      <td>NaN</td>\n",
              "      <td>1976.0</td>\n",
              "      <td>A01</td>\n",
              "    </tr>\n",
              "    <tr>\n",
              "      <th>1</th>\n",
              "      <td>200500000001</td>\n",
              "      <td>2005-01-12T19:00:00Z</td>\n",
              "      <td>Nuit sans Ã©clairage public</td>\n",
              "      <td>En agglomÃ©ration</td>\n",
              "      <td>Hors intersection</td>\n",
              "      <td>Normale</td>\n",
              "      <td>Deux vÃ©hicules â par le cotÃ©</td>\n",
              "      <td>11.0</td>\n",
              "      <td>CD41B</td>\n",
              "      <td>MÃ©tropole</td>\n",
              "      <td>50.515</td>\n",
              "      <td>2.944</td>\n",
              "      <td>590</td>\n",
              "      <td>1.0</td>\n",
              "      <td>Conducteur</td>\n",
              "      <td>BlessÃ© hospitalisÃ©</td>\n",
              "      <td>FÃ©minin</td>\n",
              "      <td>Courses â achats</td>\n",
              "      <td>Ceinture</td>\n",
              "      <td>Oui</td>\n",
              "      <td>NaN</td>\n",
              "      <td>NaN</td>\n",
              "      <td>NaN</td>\n",
              "      <td>1968.0</td>\n",
              "      <td>B02</td>\n",
              "    </tr>\n",
              "    <tr>\n",
              "      <th>2</th>\n",
              "      <td>200500000001</td>\n",
              "      <td>2005-01-12T19:00:00Z</td>\n",
              "      <td>Nuit sans Ã©clairage public</td>\n",
              "      <td>En agglomÃ©ration</td>\n",
              "      <td>Hors intersection</td>\n",
              "      <td>Normale</td>\n",
              "      <td>Deux vÃ©hicules â par le cotÃ©</td>\n",
              "      <td>11.0</td>\n",
              "      <td>CD41B</td>\n",
              "      <td>MÃ©tropole</td>\n",
              "      <td>50.515</td>\n",
              "      <td>2.944</td>\n",
              "      <td>590</td>\n",
              "      <td>2.0</td>\n",
              "      <td>Passager</td>\n",
              "      <td>Indemne</td>\n",
              "      <td>Masculin</td>\n",
              "      <td>NaN</td>\n",
              "      <td>Ceinture</td>\n",
              "      <td>Oui</td>\n",
              "      <td>NaN</td>\n",
              "      <td>NaN</td>\n",
              "      <td>NaN</td>\n",
              "      <td>1964.0</td>\n",
              "      <td>B02</td>\n",
              "    </tr>\n",
              "    <tr>\n",
              "      <th>3</th>\n",
              "      <td>200500000001</td>\n",
              "      <td>2005-01-12T19:00:00Z</td>\n",
              "      <td>Nuit sans Ã©clairage public</td>\n",
              "      <td>En agglomÃ©ration</td>\n",
              "      <td>Hors intersection</td>\n",
              "      <td>Normale</td>\n",
              "      <td>Deux vÃ©hicules â par le cotÃ©</td>\n",
              "      <td>11.0</td>\n",
              "      <td>CD41B</td>\n",
              "      <td>MÃ©tropole</td>\n",
              "      <td>50.515</td>\n",
              "      <td>2.944</td>\n",
              "      <td>590</td>\n",
              "      <td>4.0</td>\n",
              "      <td>Passager</td>\n",
              "      <td>Indemne</td>\n",
              "      <td>Masculin</td>\n",
              "      <td>NaN</td>\n",
              "      <td>Dispositif enfants</td>\n",
              "      <td>Oui</td>\n",
              "      <td>NaN</td>\n",
              "      <td>NaN</td>\n",
              "      <td>NaN</td>\n",
              "      <td>2004.0</td>\n",
              "      <td>B02</td>\n",
              "    </tr>\n",
              "    <tr>\n",
              "      <th>4</th>\n",
              "      <td>200500000001</td>\n",
              "      <td>2005-01-12T19:00:00Z</td>\n",
              "      <td>Nuit sans Ã©clairage public</td>\n",
              "      <td>En agglomÃ©ration</td>\n",
              "      <td>Hors intersection</td>\n",
              "      <td>Normale</td>\n",
              "      <td>Deux vÃ©hicules â par le cotÃ©</td>\n",
              "      <td>11.0</td>\n",
              "      <td>CD41B</td>\n",
              "      <td>MÃ©tropole</td>\n",
              "      <td>50.515</td>\n",
              "      <td>2.944</td>\n",
              "      <td>590</td>\n",
              "      <td>5.0</td>\n",
              "      <td>Passager</td>\n",
              "      <td>Indemne</td>\n",
              "      <td>Masculin</td>\n",
              "      <td>NaN</td>\n",
              "      <td>Ceinture</td>\n",
              "      <td>Oui</td>\n",
              "      <td>NaN</td>\n",
              "      <td>NaN</td>\n",
              "      <td>NaN</td>\n",
              "      <td>1998.0</td>\n",
              "      <td>B02</td>\n",
              "    </tr>\n",
              "    <tr>\n",
              "      <th>5</th>\n",
              "      <td>200500000001</td>\n",
              "      <td>2005-01-12T19:00:00Z</td>\n",
              "      <td>Nuit sans Ã©clairage public</td>\n",
              "      <td>En agglomÃ©ration</td>\n",
              "      <td>Hors intersection</td>\n",
              "      <td>Normale</td>\n",
              "      <td>Deux vÃ©hicules â par le cotÃ©</td>\n",
              "      <td>11.0</td>\n",
              "      <td>CD41B</td>\n",
              "      <td>MÃ©tropole</td>\n",
              "      <td>50.515</td>\n",
              "      <td>2.944</td>\n",
              "      <td>590</td>\n",
              "      <td>3.0</td>\n",
              "      <td>Passager</td>\n",
              "      <td>Indemne</td>\n",
              "      <td>FÃ©minin</td>\n",
              "      <td>NaN</td>\n",
              "      <td>Ceinture</td>\n",
              "      <td>Oui</td>\n",
              "      <td>NaN</td>\n",
              "      <td>NaN</td>\n",
              "      <td>NaN</td>\n",
              "      <td>1991.0</td>\n",
              "      <td>B02</td>\n",
              "    </tr>\n",
              "  </tbody>\n",
              "</table>\n",
              "</div>"
            ],
            "text/plain": [
              "        Num_Acc                  date  ... an_nais num_veh\n",
              "0  200500000001  2005-01-12T19:00:00Z  ...  1976.0     A01\n",
              "1  200500000001  2005-01-12T19:00:00Z  ...  1968.0     B02\n",
              "2  200500000001  2005-01-12T19:00:00Z  ...  1964.0     B02\n",
              "3  200500000001  2005-01-12T19:00:00Z  ...  2004.0     B02\n",
              "4  200500000001  2005-01-12T19:00:00Z  ...  1998.0     B02\n",
              "5  200500000001  2005-01-12T19:00:00Z  ...  1991.0     B02\n",
              "\n",
              "[6 rows x 25 columns]"
            ]
          },
          "metadata": {
            "tags": []
          },
          "execution_count": 6
        }
      ]
    },
    {
      "cell_type": "code",
      "metadata": {
        "colab": {
          "base_uri": "https://localhost:8080/",
          "height": 497
        },
        "id": "WT7_uYhnZ7ug",
        "outputId": "5e281101-5db7-493c-c7a8-29a0083566e5"
      },
      "source": [
        "# barplot\n",
        "# -> for wider plot options, use seaborn, matplotlib, plotly etc\n",
        "x = caracteristiques.groupby('lum')['lum'].count()\n",
        "x.plot.bar()"
      ],
      "execution_count": null,
      "outputs": [
        {
          "output_type": "execute_result",
          "data": {
            "text/plain": [
              "<matplotlib.axes._subplots.AxesSubplot at 0x7f0352f16d10>"
            ]
          },
          "metadata": {
            "tags": []
          },
          "execution_count": 13
        },
        {
          "output_type": "display_data",
          "data": {
            "image/png": "[encoded data removed]",
            "text/plain": [
              "<Figure size 432x288 with 1 Axes>"
            ]
          },
          "metadata": {
            "tags": [],
            "needs_background": "light"
          }
        }
      ]
    }
  ]
}